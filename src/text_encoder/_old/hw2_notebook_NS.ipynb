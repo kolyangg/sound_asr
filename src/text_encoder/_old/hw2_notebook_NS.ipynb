{
 "cells": [
  {
   "cell_type": "code",
   "execution_count": null,
   "metadata": {},
   "outputs": [],
   "source": [
    "# install kenlm\n",
    "!pip install https://github.com/kpu/kenlm/archive/master.zip"
   ]
  },
  {
   "cell_type": "code",
   "execution_count": null,
   "metadata": {},
   "outputs": [],
   "source": [
    "# download LM model\n",
    "!wget https://www.openslr.org/resources/11/4-gram.arpa.gz\n",
    "!gunzip 4-gram.arpa.gz\n"
   ]
  }
 ],
 "metadata": {
  "kernelspec": {
   "display_name": "sound_env",
   "language": "python",
   "name": "python3"
  },
  "language_info": {
   "name": "python",
   "version": "3.12.7"
  }
 },
 "nbformat": 4,
 "nbformat_minor": 2
}
